{
 "cells": [
  {
   "cell_type": "code",
   "execution_count": 1,
   "metadata": {},
   "outputs": [
    {
     "name": "stderr",
     "output_type": "stream",
     "text": [
      "/home/alex/.local/lib/python3.8/site-packages/tqdm/auto.py:22: TqdmWarning: IProgress not found. Please update jupyter and ipywidgets. See https://ipywidgets.readthedocs.io/en/stable/user_install.html\n",
      "  from .autonotebook import tqdm as notebook_tqdm\n"
     ]
    }
   ],
   "source": [
    "import torch\n",
    "from torch.utils.data.sampler import Sampler\n",
    "from torch.utils.data.dataloader import DataLoader\n",
    "import numpy as np\n",
    "from tsav import TwoStreamAuralVisualModel\n",
    "from aff2compdataset import Aff2CompDataset\n",
    "from write_labelfile import write_labelfile\n",
    "from utils import ex_from_one_hot, split_EX_VA_AU\n",
    "from tqdm import tqdm\n",
    "import os\n",
    "batch = 1 \n",
    "model_path = '/home/alex/Desktop/TSAV_Sub4_544k.pth.tar' # path to the model\n",
    "result_path = 'trained_results'# path where the result .txt files should be stored\n",
    "database_path = 'aff2_processed/'  # path where the database was created (images, audio...) see create_database.py\n",
    "# should be the same path\n",
    "\n",
    "\n",
    "class SubsetSequentialSampler(Sampler):\n",
    "\n",
    "    def __init__(self, indices):\n",
    "        self.indices = indices\n",
    "\n",
    "    def __iter__(self):\n",
    "        return iter(self.indices)\n",
    "\n",
    "\n",
    "    def __len__(self):\n",
    "        return len(self.indices)\n",
    "\n",
    "\n"
   ]
  },
  {
   "cell_type": "code",
   "execution_count": 2,
   "metadata": {},
   "outputs": [
    {
     "name": "stdout",
     "output_type": "stream",
     "text": [
      "cuda\n"
     ]
    }
   ],
   "source": [
    "    device = torch.device(\"cuda\")\n",
    "    print(\"cuda\")\n",
    "\n",
    "    # model\n",
    "    model = TwoStreamAuralVisualModel(num_channels=4)\n",
    "    modes = model.modes\n",
    "    # load the model\n",
    "    model = model.to(device)\n",
    "    saved_model = torch.load(model_path, map_location=device)\n",
    "    model.load_state_dict(saved_model['state_dict'])\n",
    "    # disable grad, set to eval\n",
    "    for p in model.parameters():\n",
    "        p.requires_grad = False\n",
    "    for p in model.children():\n",
    "        p.train(False)\n",
    "\n",
    "\n",
    "\n"
   ]
  },
  {
   "cell_type": "code",
   "execution_count": 3,
   "metadata": {},
   "outputs": [
    {
     "name": "stdout",
     "output_type": "stream",
     "text": [
      "creating cached_metadata... \n"
     ]
    },
    {
     "name": "stderr",
     "output_type": "stream",
     "text": [
      " 26%|██▌       | 145/564 [00:39<01:06,  6.26it/s]"
     ]
    }
   ],
   "source": [
    "# load dataset (first time this takes longer)\n",
    "dataset = Aff2CompDataset(database_path)\n",
    "dataset.set_modes(modes)\n",
    "\n",
    "    # select the frames we want to process (we choose VAL and TEST)\n",
    "testvalids = np.logical_or(dataset.train_ids, dataset.train_ids)\n",
    "print('Train set length: ' + str(sum(dataset.train_ids)))\n",
    "sampler = SubsetSequentialSampler(np.nonzero(testvalids)[0])\n",
    "loader = DataLoader(dataset, batch_size=batch, sampler=sampler, num_workers=8, pin_memory=True, drop_last=False)\n",
    "output = torch.zeros((len(dataset), 17), dtype=torch.float32)\n",
    "for data in loader:\n",
    "    print(\"after returned \"   +  str(type(data)))\n",
    "    # for label in data.keys():\n",
    "        # print(label + \" : \" + str(type(data[label])))\n",
    "    break\n",
    "\n",
    "\n",
    "\n"
   ]
  },
  {
   "cell_type": "code",
   "execution_count": null,
   "metadata": {},
   "outputs": [],
   "source": [
    "for data in loader:\n",
    "    print(data.keys())\n",
    "    break"
   ]
  },
  {
   "cell_type": "code",
   "execution_count": null,
   "metadata": {},
   "outputs": [],
   "source": []
  }
 ],
 "metadata": {
  "kernelspec": {
   "display_name": "Python 3.8.10 64-bit",
   "language": "python",
   "name": "python3"
  },
  "language_info": {
   "codemirror_mode": {
    "name": "ipython",
    "version": 3
   },
   "file_extension": ".py",
   "mimetype": "text/x-python",
   "name": "python",
   "nbconvert_exporter": "python",
   "pygments_lexer": "ipython3",
   "version": "3.8.10"
  },
  "orig_nbformat": 4,
  "vscode": {
   "interpreter": {
    "hash": "916dbcbb3f70747c44a77c7bcd40155683ae19c65e1c03b4aa3499c5328201f1"
   }
  }
 },
 "nbformat": 4,
 "nbformat_minor": 2
}
